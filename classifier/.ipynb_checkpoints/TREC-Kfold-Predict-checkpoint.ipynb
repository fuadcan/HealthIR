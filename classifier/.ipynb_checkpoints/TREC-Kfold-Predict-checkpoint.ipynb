{
 "cells": [
  {
   "cell_type": "markdown",
   "metadata": {},
   "source": [
    "## Info\n",
    "\n",
    "This file predicts credibility of documents using the 10 classifiers created in Kfold_Train file. As in the training step, we split the data into documents relevant to 10 validation sets of 5 topics. For each set of documents, we used respective classifiers trained in the previous step, which are alien to the topics that the documents are discussing."
   ]
  },
  {
   "cell_type": "code",
   "execution_count": null,
   "metadata": {},
   "outputs": [],
   "source": []
  },
  {
   "cell_type": "code",
   "execution_count": 1,
   "metadata": {},
   "outputs": [],
   "source": [
    "import pandas as pd\n",
    "import os,sys,re\n",
    "from sklearn.feature_extraction.text import CountVectorizer\n",
    "from sklearn.naive_bayes import MultinomialNB\n",
    "from collections import Counter\n",
    "from sklearn import metrics\n",
    "from sklearn.model_selection import train_test_split\n",
    "from sklearn.linear_model import LogisticRegression \n",
    "from sklearn.pipeline import Pipeline\n",
    "from joblib import dump, load\n"
   ]
  },
  {
   "cell_type": "code",
   "execution_count": 6,
   "metadata": {},
   "outputs": [],
   "source": [
    "infecteds = pd.read_csv('infected.txt', header=None, sep = ' ')\n",
    "infecteds.columns = ['DOCID']"
   ]
  },
  {
   "cell_type": "code",
   "execution_count": null,
   "metadata": {},
   "outputs": [],
   "source": [
    "bm25run = pd.read_csv('treceval/UWatMDS_BM25.txt', header=None, sep = ' ')\n",
    "bm25run.columns = ['TID','QID','DOCID','REL','COR','CRE']\n",
    "bm25run = bm25run[~bm25run.DOCID.isin(infecteds.DOCID)]\n",
    "\n",
    "qrels = pd.read_csv('qrels_correctness.txt', header=None, sep = ' ')\n",
    "qrels.columns = ['TID','QID','DOCID','REL','COR','CRE']\n",
    "qrels = qrels[~qrels.DOCID.isin(infecteds.DOCID)]\n",
    "qrels = qrels[qrels.CRE.isin([0,1])]\n",
    "qrels.head()"
   ]
  },
  {
   "cell_type": "markdown",
   "metadata": {},
   "source": [
    "## Classification"
   ]
  },
  {
   "cell_type": "code",
   "execution_count": 4,
   "metadata": {},
   "outputs": [
    {
     "data": {
      "text/plain": [
       "(4159, 6)"
      ]
     },
     "execution_count": 4,
     "metadata": {},
     "output_type": "execute_result"
    }
   ],
   "source": [
    "qrels.shape"
   ]
  },
  {
   "cell_type": "code",
   "execution_count": null,
   "metadata": {},
   "outputs": [],
   "source": [
    "DOCS_DIR = '/media/ludwig/story/DecisionRunDocs/trec_decision_parts/trec_decision_docs/'\n",
    "SAVE_DIR = 'model/'\n",
    "counter = 1\n",
    "docs = []\n",
    "for docname in bm25run['DOCID'].drop_duplicates():\n",
    "    try:\n",
    "        with open(DOCS_DIR + docname) as fh:\n",
    "            docs.append(fh.read())\n",
    "    except:\n",
    "        docs.append('!DOCTYPE')\n",
    "        print('there is a problem with %s' % counter)\n",
    "    if counter % 1000 == 0:\n",
    "        print(counter)\n",
    "    counter += 1"
   ]
  },
  {
   "cell_type": "code",
   "execution_count": 9,
   "metadata": {},
   "outputs": [],
   "source": [
    "mapper = pd.DataFrame(bm25run.DOCID.drop_duplicates())\n",
    "mapper['DOCS'] = docs"
   ]
  },
  {
   "cell_type": "code",
   "execution_count": 7,
   "metadata": {},
   "outputs": [
    {
     "data": {
      "text/html": [
       "<div>\n",
       "<style scoped>\n",
       "    .dataframe tbody tr th:only-of-type {\n",
       "        vertical-align: middle;\n",
       "    }\n",
       "\n",
       "    .dataframe tbody tr th {\n",
       "        vertical-align: top;\n",
       "    }\n",
       "\n",
       "    .dataframe thead th {\n",
       "        text-align: right;\n",
       "    }\n",
       "</style>\n",
       "<table border=\"1\" class=\"dataframe\">\n",
       "  <thead>\n",
       "    <tr style=\"text-align: right;\">\n",
       "      <th></th>\n",
       "      <th>DOCID</th>\n",
       "      <th>DOCS</th>\n",
       "    </tr>\n",
       "  </thead>\n",
       "  <tbody>\n",
       "    <tr>\n",
       "      <th>0</th>\n",
       "      <td>clueweb12-1712wb-84-02961</td>\n",
       "      <td>&lt;!DOCTYPE html PUBLIC \"-//W3C//DTD XHTML 1.0 T...</td>\n",
       "    </tr>\n",
       "    <tr>\n",
       "      <th>1</th>\n",
       "      <td>clueweb12-1304wb-88-12518</td>\n",
       "      <td>&lt;!DOCTYPE html PUBLIC \"-//W3C//DTD XHTML 1.0 T...</td>\n",
       "    </tr>\n",
       "    <tr>\n",
       "      <th>2</th>\n",
       "      <td>clueweb12-1711wb-24-23490</td>\n",
       "      <td>&lt;!DOCTYPE html PUBLIC \"-//W3C//DTD XHTML 1.0 T...</td>\n",
       "    </tr>\n",
       "    <tr>\n",
       "      <th>3</th>\n",
       "      <td>clueweb12-1304wb-51-24177</td>\n",
       "      <td>&lt;!DOCTYPE html PUBLIC \"-//W3C//DTD XHTML 1.0 T...</td>\n",
       "    </tr>\n",
       "    <tr>\n",
       "      <th>4</th>\n",
       "      <td>clueweb12-1707wb-89-14469</td>\n",
       "      <td>&lt;http://gallstonesremedy.info/?p=462&gt;; rel=sho...</td>\n",
       "    </tr>\n",
       "  </tbody>\n",
       "</table>\n",
       "</div>"
      ],
      "text/plain": [
       "                       DOCID  \\\n",
       "0  clueweb12-1712wb-84-02961   \n",
       "1  clueweb12-1304wb-88-12518   \n",
       "2  clueweb12-1711wb-24-23490   \n",
       "3  clueweb12-1304wb-51-24177   \n",
       "4  clueweb12-1707wb-89-14469   \n",
       "\n",
       "                                                DOCS  \n",
       "0  <!DOCTYPE html PUBLIC \"-//W3C//DTD XHTML 1.0 T...  \n",
       "1  <!DOCTYPE html PUBLIC \"-//W3C//DTD XHTML 1.0 T...  \n",
       "2  <!DOCTYPE html PUBLIC \"-//W3C//DTD XHTML 1.0 T...  \n",
       "3  <!DOCTYPE html PUBLIC \"-//W3C//DTD XHTML 1.0 T...  \n",
       "4  <http://gallstonesremedy.info/?p=462>; rel=sho...  "
      ]
     },
     "execution_count": 7,
     "metadata": {},
     "output_type": "execute_result"
    }
   ],
   "source": [
    "mapper.head()"
   ]
  },
  {
   "cell_type": "code",
   "execution_count": 8,
   "metadata": {},
   "outputs": [],
   "source": [
    "bm25run = bm25run.merge(mapper, on = 'DOCID', how = 'left')"
   ]
  },
  {
   "cell_type": "code",
   "execution_count": 9,
   "metadata": {},
   "outputs": [
    {
     "data": {
      "text/html": [
       "<div>\n",
       "<style scoped>\n",
       "    .dataframe tbody tr th:only-of-type {\n",
       "        vertical-align: middle;\n",
       "    }\n",
       "\n",
       "    .dataframe tbody tr th {\n",
       "        vertical-align: top;\n",
       "    }\n",
       "\n",
       "    .dataframe thead th {\n",
       "        text-align: right;\n",
       "    }\n",
       "</style>\n",
       "<table border=\"1\" class=\"dataframe\">\n",
       "  <thead>\n",
       "    <tr style=\"text-align: right;\">\n",
       "      <th></th>\n",
       "      <th>TID</th>\n",
       "      <th>QID</th>\n",
       "      <th>DOCID</th>\n",
       "      <th>REL</th>\n",
       "      <th>COR</th>\n",
       "      <th>CRE</th>\n",
       "      <th>DOCS</th>\n",
       "    </tr>\n",
       "  </thead>\n",
       "  <tbody>\n",
       "    <tr>\n",
       "      <th>0</th>\n",
       "      <td>1</td>\n",
       "      <td>Q0</td>\n",
       "      <td>clueweb12-1712wb-84-02961</td>\n",
       "      <td>1</td>\n",
       "      <td>42.583</td>\n",
       "      <td>UWatMDS_BM25</td>\n",
       "      <td>&lt;!DOCTYPE html PUBLIC \"-//W3C//DTD XHTML 1.0 T...</td>\n",
       "    </tr>\n",
       "    <tr>\n",
       "      <th>1</th>\n",
       "      <td>1</td>\n",
       "      <td>Q0</td>\n",
       "      <td>clueweb12-1304wb-88-12518</td>\n",
       "      <td>2</td>\n",
       "      <td>42.359</td>\n",
       "      <td>UWatMDS_BM25</td>\n",
       "      <td>&lt;!DOCTYPE html PUBLIC \"-//W3C//DTD XHTML 1.0 T...</td>\n",
       "    </tr>\n",
       "    <tr>\n",
       "      <th>2</th>\n",
       "      <td>1</td>\n",
       "      <td>Q0</td>\n",
       "      <td>clueweb12-1711wb-24-23490</td>\n",
       "      <td>3</td>\n",
       "      <td>42.222</td>\n",
       "      <td>UWatMDS_BM25</td>\n",
       "      <td>&lt;!DOCTYPE html PUBLIC \"-//W3C//DTD XHTML 1.0 T...</td>\n",
       "    </tr>\n",
       "    <tr>\n",
       "      <th>3</th>\n",
       "      <td>1</td>\n",
       "      <td>Q0</td>\n",
       "      <td>clueweb12-1304wb-51-24177</td>\n",
       "      <td>4</td>\n",
       "      <td>42.086</td>\n",
       "      <td>UWatMDS_BM25</td>\n",
       "      <td>&lt;!DOCTYPE html PUBLIC \"-//W3C//DTD XHTML 1.0 T...</td>\n",
       "    </tr>\n",
       "    <tr>\n",
       "      <th>4</th>\n",
       "      <td>1</td>\n",
       "      <td>Q0</td>\n",
       "      <td>clueweb12-1707wb-89-14469</td>\n",
       "      <td>5</td>\n",
       "      <td>42.005</td>\n",
       "      <td>UWatMDS_BM25</td>\n",
       "      <td>&lt;http://gallstonesremedy.info/?p=462&gt;; rel=sho...</td>\n",
       "    </tr>\n",
       "  </tbody>\n",
       "</table>\n",
       "</div>"
      ],
      "text/plain": [
       "   TID QID                      DOCID  REL     COR           CRE  \\\n",
       "0    1  Q0  clueweb12-1712wb-84-02961    1  42.583  UWatMDS_BM25   \n",
       "1    1  Q0  clueweb12-1304wb-88-12518    2  42.359  UWatMDS_BM25   \n",
       "2    1  Q0  clueweb12-1711wb-24-23490    3  42.222  UWatMDS_BM25   \n",
       "3    1  Q0  clueweb12-1304wb-51-24177    4  42.086  UWatMDS_BM25   \n",
       "4    1  Q0  clueweb12-1707wb-89-14469    5  42.005  UWatMDS_BM25   \n",
       "\n",
       "                                                DOCS  \n",
       "0  <!DOCTYPE html PUBLIC \"-//W3C//DTD XHTML 1.0 T...  \n",
       "1  <!DOCTYPE html PUBLIC \"-//W3C//DTD XHTML 1.0 T...  \n",
       "2  <!DOCTYPE html PUBLIC \"-//W3C//DTD XHTML 1.0 T...  \n",
       "3  <!DOCTYPE html PUBLIC \"-//W3C//DTD XHTML 1.0 T...  \n",
       "4  <http://gallstonesremedy.info/?p=462>; rel=sho...  "
      ]
     },
     "execution_count": 9,
     "metadata": {},
     "output_type": "execute_result"
    }
   ],
   "source": [
    "bm25run.head()"
   ]
  },
  {
   "cell_type": "code",
   "execution_count": 6,
   "metadata": {},
   "outputs": [
    {
     "data": {
      "text/plain": [
       "(50, 2)"
      ]
     },
     "execution_count": 6,
     "metadata": {},
     "output_type": "execute_result"
    }
   ],
   "source": [
    "splts = pd.read_csv('10fold_groups.txt', header=None)\n",
    "splts.shape"
   ]
  },
  {
   "cell_type": "markdown",
   "metadata": {},
   "source": [
    "## Classify"
   ]
  },
  {
   "cell_type": "code",
   "execution_count": 7,
   "metadata": {},
   "outputs": [],
   "source": [
    "from sklearn.linear_model import LogisticRegression \n",
    "from sklearn.pipeline import Pipeline\n",
    "from joblib import dump, load"
   ]
  },
  {
   "cell_type": "code",
   "execution_count": 12,
   "metadata": {},
   "outputs": [],
   "source": [
    "k = 1\n",
    "pline = load('LOGREG_10fold_%s.joblib' % k)\n",
    "test_topics = splts[splts[0] == k][1].values\n",
    "target = bm25run[bm25run.TID.isin(test_topics)]"
   ]
  },
  {
   "cell_type": "code",
   "execution_count": 13,
   "metadata": {},
   "outputs": [
    {
     "data": {
      "text/html": [
       "<div>\n",
       "<style scoped>\n",
       "    .dataframe tbody tr th:only-of-type {\n",
       "        vertical-align: middle;\n",
       "    }\n",
       "\n",
       "    .dataframe tbody tr th {\n",
       "        vertical-align: top;\n",
       "    }\n",
       "\n",
       "    .dataframe thead th {\n",
       "        text-align: right;\n",
       "    }\n",
       "</style>\n",
       "<table border=\"1\" class=\"dataframe\">\n",
       "  <thead>\n",
       "    <tr style=\"text-align: right;\">\n",
       "      <th></th>\n",
       "      <th>TID</th>\n",
       "      <th>QID</th>\n",
       "      <th>DOCID</th>\n",
       "      <th>REL</th>\n",
       "      <th>COR</th>\n",
       "      <th>CRE</th>\n",
       "      <th>DOCS</th>\n",
       "    </tr>\n",
       "  </thead>\n",
       "  <tbody>\n",
       "    <tr>\n",
       "      <th>21985</th>\n",
       "      <td>23</td>\n",
       "      <td>Q0</td>\n",
       "      <td>clueweb12-0407wb-21-20136</td>\n",
       "      <td>1</td>\n",
       "      <td>33.863</td>\n",
       "      <td>UWatMDS_BM25</td>\n",
       "      <td>&lt;html&gt;\\n&lt;head&gt;\\n&lt;title&gt;Gestational Diabetes in...</td>\n",
       "    </tr>\n",
       "    <tr>\n",
       "      <th>21986</th>\n",
       "      <td>23</td>\n",
       "      <td>Q0</td>\n",
       "      <td>clueweb12-0000wb-47-16597</td>\n",
       "      <td>2</td>\n",
       "      <td>33.777</td>\n",
       "      <td>UWatMDS_BM25</td>\n",
       "      <td>&lt;!DOCTYPE html PUBLIC \"-//W3C//DTD XHTML 1.0 S...</td>\n",
       "    </tr>\n",
       "    <tr>\n",
       "      <th>21987</th>\n",
       "      <td>23</td>\n",
       "      <td>Q0</td>\n",
       "      <td>clueweb12-1604wb-25-31323</td>\n",
       "      <td>3</td>\n",
       "      <td>33.734</td>\n",
       "      <td>UWatMDS_BM25</td>\n",
       "      <td>&lt;!DOCTYPE html PUBLIC \"-//W3C//DTD XHTML 1.0 T...</td>\n",
       "    </tr>\n",
       "    <tr>\n",
       "      <th>21988</th>\n",
       "      <td>23</td>\n",
       "      <td>Q0</td>\n",
       "      <td>clueweb12-0803wb-65-25055</td>\n",
       "      <td>4</td>\n",
       "      <td>33.689</td>\n",
       "      <td>UWatMDS_BM25</td>\n",
       "      <td>&lt;!DOCTYPE html PUBLIC \"-//W3C//DTD XHTML 1.0 T...</td>\n",
       "    </tr>\n",
       "    <tr>\n",
       "      <th>21989</th>\n",
       "      <td>23</td>\n",
       "      <td>Q0</td>\n",
       "      <td>clueweb12-0508wb-71-29330</td>\n",
       "      <td>5</td>\n",
       "      <td>33.669</td>\n",
       "      <td>UWatMDS_BM25</td>\n",
       "      <td>&lt;!DOCTYPE html PUBLIC \"-//W3C//DTD XHTML 1.0 T...</td>\n",
       "    </tr>\n",
       "  </tbody>\n",
       "</table>\n",
       "</div>"
      ],
      "text/plain": [
       "       TID QID                      DOCID  REL     COR           CRE  \\\n",
       "21985   23  Q0  clueweb12-0407wb-21-20136    1  33.863  UWatMDS_BM25   \n",
       "21986   23  Q0  clueweb12-0000wb-47-16597    2  33.777  UWatMDS_BM25   \n",
       "21987   23  Q0  clueweb12-1604wb-25-31323    3  33.734  UWatMDS_BM25   \n",
       "21988   23  Q0  clueweb12-0803wb-65-25055    4  33.689  UWatMDS_BM25   \n",
       "21989   23  Q0  clueweb12-0508wb-71-29330    5  33.669  UWatMDS_BM25   \n",
       "\n",
       "                                                    DOCS  \n",
       "21985  <html>\\n<head>\\n<title>Gestational Diabetes in...  \n",
       "21986  <!DOCTYPE html PUBLIC \"-//W3C//DTD XHTML 1.0 S...  \n",
       "21987  <!DOCTYPE html PUBLIC \"-//W3C//DTD XHTML 1.0 T...  \n",
       "21988  <!DOCTYPE html PUBLIC \"-//W3C//DTD XHTML 1.0 T...  \n",
       "21989  <!DOCTYPE html PUBLIC \"-//W3C//DTD XHTML 1.0 T...  "
      ]
     },
     "execution_count": 13,
     "metadata": {},
     "output_type": "execute_result"
    }
   ],
   "source": [
    "target.head()"
   ]
  },
  {
   "cell_type": "code",
   "execution_count": 17,
   "metadata": {},
   "outputs": [
    {
     "name": "stdout",
     "output_type": "stream",
     "text": [
      "1000\n",
      "2000\n",
      "3000\n",
      "4000\n"
     ]
    }
   ],
   "source": [
    "temp  = []\n",
    "preds = []\n",
    "counter = 1\n",
    "for doc in target.DOCS.values.tolist():\n",
    "    temp.append(doc)\n",
    "    if counter % 1000 == 0:\n",
    "        preds.extend(pline.predict_proba(temp)[:,1])\n",
    "        temp = []\n",
    "        print(counter)\n",
    "    counter += 1\n",
    "preds.extend(pline.predict_proba(temp)[:,1])"
   ]
  },
  {
   "cell_type": "code",
   "execution_count": 19,
   "metadata": {},
   "outputs": [
    {
     "name": "stderr",
     "output_type": "stream",
     "text": [
      "/usr/local/lib/python3.6/dist-packages/ipykernel_launcher.py:1: SettingWithCopyWarning: \n",
      "A value is trying to be set on a copy of a slice from a DataFrame.\n",
      "Try using .loc[row_indexer,col_indexer] = value instead\n",
      "\n",
      "See the caveats in the documentation: http://pandas.pydata.org/pandas-docs/stable/user_guide/indexing.html#returning-a-view-versus-a-copy\n",
      "  \"\"\"Entry point for launching an IPython kernel.\n"
     ]
    }
   ],
   "source": [
    "target['PROBS'] = preds\n",
    "del target['DOCS'], target['REL'], target['CRE'], target['COR'], target['QID']\n",
    "target.to_csv('PROBS_10fold_%s.csv' % k)"
   ]
  },
  {
   "cell_type": "code",
   "execution_count": 20,
   "metadata": {},
   "outputs": [
    {
     "name": "stdout",
     "output_type": "stream",
     "text": [
      "[ 7 44  1  3 15]\n",
      "1000\n",
      "2000\n",
      "3000\n",
      "4000\n"
     ]
    },
    {
     "name": "stderr",
     "output_type": "stream",
     "text": [
      "/usr/local/lib/python3.6/dist-packages/ipykernel_launcher.py:19: SettingWithCopyWarning: \n",
      "A value is trying to be set on a copy of a slice from a DataFrame.\n",
      "Try using .loc[row_indexer,col_indexer] = value instead\n",
      "\n",
      "See the caveats in the documentation: http://pandas.pydata.org/pandas-docs/stable/user_guide/indexing.html#returning-a-view-versus-a-copy\n"
     ]
    },
    {
     "name": "stdout",
     "output_type": "stream",
     "text": [
      "[ 9 11 21 26 25]\n",
      "1000\n",
      "2000\n",
      "3000\n",
      "4000\n",
      "[16 30 51 32 18]\n",
      "1000\n",
      "2000\n",
      "3000\n",
      "4000\n",
      "[35  5 38 20 10]\n",
      "1000\n",
      "2000\n",
      "3000\n",
      "4000\n",
      "[12 28 43 13 45]\n",
      "1000\n",
      "2000\n",
      "3000\n",
      "4000\n",
      "[19 46  4 47 41]\n",
      "1000\n",
      "2000\n",
      "3000\n",
      "4000\n",
      "[36 40  6 50 49]\n",
      "1000\n",
      "2000\n",
      "3000\n",
      "4000\n",
      "[17 37  8 22 42]\n",
      "1000\n",
      "2000\n",
      "3000\n",
      "4000\n",
      "[27  2 39 29 33]\n",
      "1000\n",
      "2000\n",
      "3000\n",
      "4000\n"
     ]
    }
   ],
   "source": [
    "for k in range(2,11):\n",
    "    pline = load('LOGREG_10fold_%s.joblib' % k)\n",
    "    test_topics = splts[splts[0] == k][1].values\n",
    "    target = bm25run[bm25run.TID.isin(test_topics)]\n",
    "    print(test_topics)\n",
    "    #\n",
    "    temp  = []\n",
    "    preds = []\n",
    "    counter = 1\n",
    "    for doc in target.DOCS.values.tolist():\n",
    "        temp.append(doc)\n",
    "        if counter % 1000 == 0:\n",
    "            preds.extend(pline.predict_proba(temp)[:,1])\n",
    "            temp = []\n",
    "            print(counter)\n",
    "        counter += 1\n",
    "    preds.extend(pline.predict_proba(temp)[:,1])\n",
    "    #\n",
    "    target['PROBS'] = preds\n",
    "    del target['DOCS'], target['REL'], target['CRE'], target['COR'], target['QID']\n",
    "    target.to_csv('PROBS_10fold_%s.csv' % k)\n",
    "    "
   ]
  },
  {
   "cell_type": "code",
   "execution_count": 35,
   "metadata": {},
   "outputs": [],
   "source": []
  },
  {
   "cell_type": "code",
   "execution_count": null,
   "metadata": {},
   "outputs": [],
   "source": []
  }
 ],
 "metadata": {
  "kernelspec": {
   "display_name": "Python 3",
   "language": "python",
   "name": "python3"
  },
  "language_info": {
   "codemirror_mode": {
    "name": "ipython",
    "version": 3
   },
   "file_extension": ".py",
   "mimetype": "text/x-python",
   "name": "python",
   "nbconvert_exporter": "python",
   "pygments_lexer": "ipython3",
   "version": "3.8.2"
  }
 },
 "nbformat": 4,
 "nbformat_minor": 2
}
