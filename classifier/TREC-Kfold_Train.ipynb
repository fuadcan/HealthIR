{
 "cells": [
  {
   "cell_type": "markdown",
   "metadata": {},
   "source": [
    "## Info"
   ]
  },
  {
   "cell_type": "markdown",
   "metadata": {},
   "source": [
    "This file trains credibility classifier based on the NIST assessors credibility judgments to be used to improve BM25 results in credibility and correctness. To this end, \n",
    "\n",
    "- we split the 50 topics into 10 validation sets of 5 topics and trained classifiers on the remaining 45 topics.\n",
    "- this ensured the classifier is alien to the documents discussing validation topics\n",
    "- and it predicts the documents' credibility. \n",
    "- ClueWeb12-B13 documents\n",
    "\n",
    "The inputs\n",
    "\n",
    "- BM25 run: Our BM25 run computed using Anserini\n",
    "- 10fold_groups.txt: the 10 validation sets of 5 topics\n",
    "- qrels_correctness.txt shared by NIST\n",
    "- infected.txt to filter out malicious documents.\n",
    "\n",
    "Outputs:\n",
    "\n",
    "- 10 logistic regression classifiers"
   ]
  },
  {
   "cell_type": "code",
   "execution_count": 1,
   "metadata": {},
   "outputs": [],
   "source": [
    "\n",
    "import pandas as pd\n",
    "import os,sys,re\n",
    "from sklearn.feature_extraction.text import CountVectorizer\n",
    "from sklearn.naive_bayes import MultinomialNB\n",
    "from collections import Counter\n",
    "from sklearn import metrics\n",
    "from sklearn.model_selection import train_test_split\n",
    "from sklearn.linear_model import LogisticRegression \n",
    "from sklearn.pipeline import Pipeline\n",
    "from joblib import dump, load\n"
   ]
  },
  {
   "cell_type": "code",
   "execution_count": 2,
   "metadata": {},
   "outputs": [],
   "source": [
    "infecteds = pd.read_csv('/home/ludwig/Documents/DecisionRUN/trec/infected.txt', header=None, sep = ' ')\n",
    "infecteds.columns = ['DOCID']"
   ]
  },
  {
   "cell_type": "code",
   "execution_count": 3,
   "metadata": {},
   "outputs": [
    {
     "data": {
      "text/html": [
       "<div>\n",
       "<style scoped>\n",
       "    .dataframe tbody tr th:only-of-type {\n",
       "        vertical-align: middle;\n",
       "    }\n",
       "\n",
       "    .dataframe tbody tr th {\n",
       "        vertical-align: top;\n",
       "    }\n",
       "\n",
       "    .dataframe thead th {\n",
       "        text-align: right;\n",
       "    }\n",
       "</style>\n",
       "<table border=\"1\" class=\"dataframe\">\n",
       "  <thead>\n",
       "    <tr style=\"text-align: right;\">\n",
       "      <th></th>\n",
       "      <th>TID</th>\n",
       "      <th>QID</th>\n",
       "      <th>DOCID</th>\n",
       "      <th>REL</th>\n",
       "      <th>COR</th>\n",
       "      <th>CRE</th>\n",
       "    </tr>\n",
       "  </thead>\n",
       "  <tbody>\n",
       "    <tr>\n",
       "      <th>0</th>\n",
       "      <td>1</td>\n",
       "      <td>0</td>\n",
       "      <td>clueweb12-0000wb-03-01030</td>\n",
       "      <td>1</td>\n",
       "      <td>0</td>\n",
       "      <td>0</td>\n",
       "    </tr>\n",
       "    <tr>\n",
       "      <th>1</th>\n",
       "      <td>1</td>\n",
       "      <td>0</td>\n",
       "      <td>clueweb12-0000wb-47-24784</td>\n",
       "      <td>1</td>\n",
       "      <td>0</td>\n",
       "      <td>1</td>\n",
       "    </tr>\n",
       "    <tr>\n",
       "      <th>6</th>\n",
       "      <td>1</td>\n",
       "      <td>0</td>\n",
       "      <td>clueweb12-0002wb-08-02435</td>\n",
       "      <td>2</td>\n",
       "      <td>0</td>\n",
       "      <td>1</td>\n",
       "    </tr>\n",
       "    <tr>\n",
       "      <th>8</th>\n",
       "      <td>1</td>\n",
       "      <td>0</td>\n",
       "      <td>clueweb12-0002wb-42-30714</td>\n",
       "      <td>2</td>\n",
       "      <td>0</td>\n",
       "      <td>1</td>\n",
       "    </tr>\n",
       "    <tr>\n",
       "      <th>13</th>\n",
       "      <td>1</td>\n",
       "      <td>0</td>\n",
       "      <td>clueweb12-0004wb-25-32570</td>\n",
       "      <td>1</td>\n",
       "      <td>0</td>\n",
       "      <td>1</td>\n",
       "    </tr>\n",
       "  </tbody>\n",
       "</table>\n",
       "</div>"
      ],
      "text/plain": [
       "    TID  QID                      DOCID  REL  COR  CRE\n",
       "0     1    0  clueweb12-0000wb-03-01030    1    0    0\n",
       "1     1    0  clueweb12-0000wb-47-24784    1    0    1\n",
       "6     1    0  clueweb12-0002wb-08-02435    2    0    1\n",
       "8     1    0  clueweb12-0002wb-42-30714    2    0    1\n",
       "13    1    0  clueweb12-0004wb-25-32570    1    0    1"
      ]
     },
     "execution_count": 3,
     "metadata": {},
     "output_type": "execute_result"
    }
   ],
   "source": [
    "bm25run = pd.read_csv('treceval/UWatMDS_BM25.txt', header=None, sep = ' ')\n",
    "bm25run.columns = ['TID','QID','DOCID','REL','COR','CRE']\n",
    "bm25run = bm25run[~bm25run.DOCID.isin(infecteds.DOCID)]\n",
    "\n",
    "qrels = pd.read_csv('qrels_correctness.txt', header=None, sep = ' ')\n",
    "qrels.columns = ['TID','QID','DOCID','REL','COR','CRE']\n",
    "qrels = qrels[~qrels.DOCID.isin(infecteds.DOCID)]\n",
    "qrels = qrels[qrels.CRE.isin([0,1])]\n",
    "qrels.head()"
   ]
  },
  {
   "cell_type": "markdown",
   "metadata": {},
   "source": [
    "## Classification"
   ]
  },
  {
   "cell_type": "code",
   "execution_count": 4,
   "metadata": {},
   "outputs": [
    {
     "data": {
      "text/plain": [
       "(4159, 6)"
      ]
     },
     "execution_count": 4,
     "metadata": {},
     "output_type": "execute_result"
    }
   ],
   "source": [
    "qrels.shape"
   ]
  },
  {
   "cell_type": "code",
   "execution_count": 6,
   "metadata": {},
   "outputs": [
    {
     "name": "stdout",
     "output_type": "stream",
     "text": [
      "there is a problem with 546\n",
      "there is a problem with 567\n",
      "there is a problem with 841\n",
      "there is a problem with 895\n",
      "there is a problem with 998\n",
      "1000\n",
      "there is a problem with 1334\n",
      "there is a problem with 1898\n",
      "there is a problem with 1996\n",
      "2000\n",
      "there is a problem with 2488\n",
      "there is a problem with 2593\n",
      "3000\n",
      "there is a problem with 3040\n",
      "there is a problem with 3455\n",
      "there is a problem with 3591\n",
      "there is a problem with 3617\n",
      "there is a problem with 3619\n",
      "there is a problem with 3626\n",
      "4000\n"
     ]
    }
   ],
   "source": [
    "# for docname in doclist['DOCID']:\n",
    "DOCS_DIR = '/media/ludwig/story/DecisionRunDocs/trec_decision_parts/trec_decision_docs/'\n",
    "SAVE_DIR = 'model/'\n",
    "counter = 1\n",
    "docs = []\n",
    "for docname in qrels['DOCID'].drop_duplicates():\n",
    "    try:\n",
    "        with open(DOCS_DIR + docname) as fh:\n",
    "            docs.append(fh.read())\n",
    "    except:\n",
    "        docs.append('!DOCTYPE')\n",
    "        print('there is a problem with %s' % counter)\n",
    "    if counter % 1000 == 0:\n",
    "        print(counter)\n",
    "    counter += 1"
   ]
  },
  {
   "cell_type": "code",
   "execution_count": 7,
   "metadata": {},
   "outputs": [],
   "source": [
    "mapper = pd.DataFrame(qrels.DOCID.drop_duplicates())\n",
    "mapper['DOCS'] = docs"
   ]
  },
  {
   "cell_type": "code",
   "execution_count": 8,
   "metadata": {},
   "outputs": [
    {
     "data": {
      "text/html": [
       "<div>\n",
       "<style scoped>\n",
       "    .dataframe tbody tr th:only-of-type {\n",
       "        vertical-align: middle;\n",
       "    }\n",
       "\n",
       "    .dataframe tbody tr th {\n",
       "        vertical-align: top;\n",
       "    }\n",
       "\n",
       "    .dataframe thead th {\n",
       "        text-align: right;\n",
       "    }\n",
       "</style>\n",
       "<table border=\"1\" class=\"dataframe\">\n",
       "  <thead>\n",
       "    <tr style=\"text-align: right;\">\n",
       "      <th></th>\n",
       "      <th>DOCID</th>\n",
       "      <th>DOCS</th>\n",
       "    </tr>\n",
       "  </thead>\n",
       "  <tbody>\n",
       "    <tr>\n",
       "      <th>0</th>\n",
       "      <td>clueweb12-0000wb-03-01030</td>\n",
       "      <td>&lt;!DOCTYPE html PUBLIC \"-//W3C//DTD XHTML 1.0 T...</td>\n",
       "    </tr>\n",
       "    <tr>\n",
       "      <th>1</th>\n",
       "      <td>clueweb12-0000wb-47-24784</td>\n",
       "      <td>&lt;html&gt;\\n&lt;head&gt;\\n&lt;META http-equiv=\"Content-Type...</td>\n",
       "    </tr>\n",
       "    <tr>\n",
       "      <th>6</th>\n",
       "      <td>clueweb12-0002wb-08-02435</td>\n",
       "      <td>&lt;!DOCTYPE html PUBLIC \"-//W3C//DTD XHTML 1.0 T...</td>\n",
       "    </tr>\n",
       "    <tr>\n",
       "      <th>8</th>\n",
       "      <td>clueweb12-0002wb-42-30714</td>\n",
       "      <td>&lt;!DOCTYPE HTML PUBLIC \"-//W3C//DTD HTML 4.01 T...</td>\n",
       "    </tr>\n",
       "    <tr>\n",
       "      <th>13</th>\n",
       "      <td>clueweb12-0004wb-25-32570</td>\n",
       "      <td>&lt;!DOCTYPE html PUBLIC \"-//W3C//DTD HTML 4.01 T...</td>\n",
       "    </tr>\n",
       "  </tbody>\n",
       "</table>\n",
       "</div>"
      ],
      "text/plain": [
       "                        DOCID  \\\n",
       "0   clueweb12-0000wb-03-01030   \n",
       "1   clueweb12-0000wb-47-24784   \n",
       "6   clueweb12-0002wb-08-02435   \n",
       "8   clueweb12-0002wb-42-30714   \n",
       "13  clueweb12-0004wb-25-32570   \n",
       "\n",
       "                                                 DOCS  \n",
       "0   <!DOCTYPE html PUBLIC \"-//W3C//DTD XHTML 1.0 T...  \n",
       "1   <html>\\n<head>\\n<META http-equiv=\"Content-Type...  \n",
       "6   <!DOCTYPE html PUBLIC \"-//W3C//DTD XHTML 1.0 T...  \n",
       "8   <!DOCTYPE HTML PUBLIC \"-//W3C//DTD HTML 4.01 T...  \n",
       "13  <!DOCTYPE html PUBLIC \"-//W3C//DTD HTML 4.01 T...  "
      ]
     },
     "execution_count": 8,
     "metadata": {},
     "output_type": "execute_result"
    }
   ],
   "source": [
    "mapper.head()"
   ]
  },
  {
   "cell_type": "code",
   "execution_count": 9,
   "metadata": {},
   "outputs": [],
   "source": [
    "qrels   = qrels.merge(mapper, on = 'DOCID', how = 'left')"
   ]
  },
  {
   "cell_type": "code",
   "execution_count": 10,
   "metadata": {},
   "outputs": [
    {
     "data": {
      "text/html": [
       "<div>\n",
       "<style scoped>\n",
       "    .dataframe tbody tr th:only-of-type {\n",
       "        vertical-align: middle;\n",
       "    }\n",
       "\n",
       "    .dataframe tbody tr th {\n",
       "        vertical-align: top;\n",
       "    }\n",
       "\n",
       "    .dataframe thead th {\n",
       "        text-align: right;\n",
       "    }\n",
       "</style>\n",
       "<table border=\"1\" class=\"dataframe\">\n",
       "  <thead>\n",
       "    <tr style=\"text-align: right;\">\n",
       "      <th></th>\n",
       "      <th>TID</th>\n",
       "      <th>QID</th>\n",
       "      <th>DOCID</th>\n",
       "      <th>REL</th>\n",
       "      <th>COR</th>\n",
       "      <th>CRE</th>\n",
       "      <th>DOCS</th>\n",
       "    </tr>\n",
       "  </thead>\n",
       "  <tbody>\n",
       "    <tr>\n",
       "      <th>0</th>\n",
       "      <td>1</td>\n",
       "      <td>0</td>\n",
       "      <td>clueweb12-0000wb-03-01030</td>\n",
       "      <td>1</td>\n",
       "      <td>0</td>\n",
       "      <td>0</td>\n",
       "      <td>&lt;!DOCTYPE html PUBLIC \"-//W3C//DTD XHTML 1.0 T...</td>\n",
       "    </tr>\n",
       "    <tr>\n",
       "      <th>1</th>\n",
       "      <td>1</td>\n",
       "      <td>0</td>\n",
       "      <td>clueweb12-0000wb-47-24784</td>\n",
       "      <td>1</td>\n",
       "      <td>0</td>\n",
       "      <td>1</td>\n",
       "      <td>&lt;html&gt;\\n&lt;head&gt;\\n&lt;META http-equiv=\"Content-Type...</td>\n",
       "    </tr>\n",
       "    <tr>\n",
       "      <th>2</th>\n",
       "      <td>1</td>\n",
       "      <td>0</td>\n",
       "      <td>clueweb12-0002wb-08-02435</td>\n",
       "      <td>2</td>\n",
       "      <td>0</td>\n",
       "      <td>1</td>\n",
       "      <td>&lt;!DOCTYPE html PUBLIC \"-//W3C//DTD XHTML 1.0 T...</td>\n",
       "    </tr>\n",
       "    <tr>\n",
       "      <th>3</th>\n",
       "      <td>1</td>\n",
       "      <td>0</td>\n",
       "      <td>clueweb12-0002wb-42-30714</td>\n",
       "      <td>2</td>\n",
       "      <td>0</td>\n",
       "      <td>1</td>\n",
       "      <td>&lt;!DOCTYPE HTML PUBLIC \"-//W3C//DTD HTML 4.01 T...</td>\n",
       "    </tr>\n",
       "    <tr>\n",
       "      <th>4</th>\n",
       "      <td>1</td>\n",
       "      <td>0</td>\n",
       "      <td>clueweb12-0004wb-25-32570</td>\n",
       "      <td>1</td>\n",
       "      <td>0</td>\n",
       "      <td>1</td>\n",
       "      <td>&lt;!DOCTYPE html PUBLIC \"-//W3C//DTD HTML 4.01 T...</td>\n",
       "    </tr>\n",
       "  </tbody>\n",
       "</table>\n",
       "</div>"
      ],
      "text/plain": [
       "   TID  QID                      DOCID  REL  COR  CRE  \\\n",
       "0    1    0  clueweb12-0000wb-03-01030    1    0    0   \n",
       "1    1    0  clueweb12-0000wb-47-24784    1    0    1   \n",
       "2    1    0  clueweb12-0002wb-08-02435    2    0    1   \n",
       "3    1    0  clueweb12-0002wb-42-30714    2    0    1   \n",
       "4    1    0  clueweb12-0004wb-25-32570    1    0    1   \n",
       "\n",
       "                                                DOCS  \n",
       "0  <!DOCTYPE html PUBLIC \"-//W3C//DTD XHTML 1.0 T...  \n",
       "1  <html>\\n<head>\\n<META http-equiv=\"Content-Type...  \n",
       "2  <!DOCTYPE html PUBLIC \"-//W3C//DTD XHTML 1.0 T...  \n",
       "3  <!DOCTYPE HTML PUBLIC \"-//W3C//DTD HTML 4.01 T...  \n",
       "4  <!DOCTYPE html PUBLIC \"-//W3C//DTD HTML 4.01 T...  "
      ]
     },
     "execution_count": 10,
     "metadata": {},
     "output_type": "execute_result"
    }
   ],
   "source": [
    "qrels.head()"
   ]
  },
  {
   "cell_type": "code",
   "execution_count": 11,
   "metadata": {},
   "outputs": [],
   "source": [
    "from sklearn.linear_model import LogisticRegression \n",
    "from sklearn.pipeline import Pipeline\n",
    "from joblib import dump, load"
   ]
  },
  {
   "cell_type": "markdown",
   "metadata": {},
   "source": [
    "## Kfold"
   ]
  },
  {
   "cell_type": "code",
   "execution_count": 12,
   "metadata": {},
   "outputs": [],
   "source": [
    "topics = sorted(qrels['TID'].unique())"
   ]
  },
  {
   "cell_type": "code",
   "execution_count": 13,
   "metadata": {},
   "outputs": [
    {
     "data": {
      "text/plain": [
       "(50, 2)"
      ]
     },
     "execution_count": 13,
     "metadata": {},
     "output_type": "execute_result"
    }
   ],
   "source": [
    "splts = pd.read_csv('10fold_groups.txt', header=None)\n",
    "splts.shape"
   ]
  },
  {
   "cell_type": "code",
   "execution_count": 14,
   "metadata": {},
   "outputs": [
    {
     "data": {
      "text/plain": [
       "array([34, 23, 31, 24, 48])"
      ]
     },
     "execution_count": 14,
     "metadata": {},
     "output_type": "execute_result"
    }
   ],
   "source": [
    "splts[splts[0] == 1][1].values"
   ]
  },
  {
   "cell_type": "code",
   "execution_count": 27,
   "metadata": {},
   "outputs": [
    {
     "data": {
      "text/plain": [
       "array([ 1,  2,  3,  4,  5,  6,  7,  8,  9, 10])"
      ]
     },
     "execution_count": 27,
     "metadata": {},
     "output_type": "execute_result"
    }
   ],
   "source": [
    "counter = 7"
   ]
  },
  {
   "cell_type": "code",
   "execution_count": 29,
   "metadata": {},
   "outputs": [
    {
     "data": {
      "text/html": [
       "<div>\n",
       "<style scoped>\n",
       "    .dataframe tbody tr th:only-of-type {\n",
       "        vertical-align: middle;\n",
       "    }\n",
       "\n",
       "    .dataframe tbody tr th {\n",
       "        vertical-align: top;\n",
       "    }\n",
       "\n",
       "    .dataframe thead th {\n",
       "        text-align: right;\n",
       "    }\n",
       "</style>\n",
       "<table border=\"1\" class=\"dataframe\">\n",
       "  <thead>\n",
       "    <tr style=\"text-align: right;\">\n",
       "      <th></th>\n",
       "      <th>0</th>\n",
       "      <th>1</th>\n",
       "    </tr>\n",
       "  </thead>\n",
       "  <tbody>\n",
       "    <tr>\n",
       "      <th>30</th>\n",
       "      <td>7</td>\n",
       "      <td>19</td>\n",
       "    </tr>\n",
       "    <tr>\n",
       "      <th>31</th>\n",
       "      <td>7</td>\n",
       "      <td>46</td>\n",
       "    </tr>\n",
       "    <tr>\n",
       "      <th>32</th>\n",
       "      <td>7</td>\n",
       "      <td>4</td>\n",
       "    </tr>\n",
       "    <tr>\n",
       "      <th>33</th>\n",
       "      <td>7</td>\n",
       "      <td>47</td>\n",
       "    </tr>\n",
       "    <tr>\n",
       "      <th>34</th>\n",
       "      <td>7</td>\n",
       "      <td>41</td>\n",
       "    </tr>\n",
       "  </tbody>\n",
       "</table>\n",
       "</div>"
      ],
      "text/plain": [
       "    0   1\n",
       "30  7  19\n",
       "31  7  46\n",
       "32  7   4\n",
       "33  7  47\n",
       "34  7  41"
      ]
     },
     "execution_count": 29,
     "metadata": {},
     "output_type": "execute_result"
    }
   ],
   "source": [
    "splts[splts[0] == 7]"
   ]
  },
  {
   "cell_type": "code",
   "execution_count": 31,
   "metadata": {},
   "outputs": [],
   "source": [
    "train_index = splts[splts[0] != 7][1].values\n",
    "test_index  = splts[splts[0] == 7][1].values"
   ]
  },
  {
   "cell_type": "code",
   "execution_count": 33,
   "metadata": {},
   "outputs": [
    {
     "data": {
      "text/plain": [
       "array([19, 46,  4, 47, 41])"
      ]
     },
     "execution_count": 33,
     "metadata": {},
     "output_type": "execute_result"
    }
   ],
   "source": [
    "test_index"
   ]
  },
  {
   "cell_type": "code",
   "execution_count": 34,
   "metadata": {},
   "outputs": [],
   "source": [
    "vect = CountVectorizer(ngram_range=(4,4), analyzer='char', binary=True)\n",
    "logreg = LogisticRegression()\n",
    "pline  = Pipeline([('vectorizer', vect), ('logreg', logreg)])\n",
    "test_topics  = test_index\n",
    "train_topics = train_index\n",
    "train, test  = qrels[~qrels['TID'].isin(test_topics)], qrels[qrels['TID'].isin(test_topics)]"
   ]
  },
  {
   "cell_type": "code",
   "execution_count": 37,
   "metadata": {},
   "outputs": [],
   "source": [
    "train, test  = qrels[~qrels['TID'].isin(test_topics)], qrels[qrels['TID'].isin(test_topics)]"
   ]
  },
  {
   "cell_type": "code",
   "execution_count": 41,
   "metadata": {},
   "outputs": [],
   "source": [
    "train        = train[~train['DOCID'].isin(test['DOCID'])]\n",
    "X_train      = train['DOCS'].values.tolist()\n",
    "X_test       = test['DOCS'].values.tolist()\n",
    "y_train, y_test = train['CRE'], test['CRE']"
   ]
  },
  {
   "cell_type": "code",
   "execution_count": 43,
   "metadata": {},
   "outputs": [
    {
     "name": "stderr",
     "output_type": "stream",
     "text": [
      "/usr/lib/python3/dist-packages/sklearn/linear_model/_logistic.py:938: ConvergenceWarning: lbfgs failed to converge (status=1):\n",
      "STOP: TOTAL NO. of ITERATIONS REACHED LIMIT.\n",
      "\n",
      "Increase the number of iterations (max_iter) or scale the data as shown in:\n",
      "    https://scikit-learn.org/stable/modules/preprocessing.html\n",
      "Please also refer to the documentation for alternative solver options:\n",
      "    https://scikit-learn.org/stable/modules/linear_model.html#logistic-regression\n",
      "  n_iter_i = _check_optimize_result(\n"
     ]
    },
    {
     "data": {
      "text/plain": [
       "Pipeline(memory=None,\n",
       "         steps=[('vectorizer',\n",
       "                 CountVectorizer(analyzer='char', binary=True,\n",
       "                                 decode_error='strict',\n",
       "                                 dtype=<class 'numpy.int64'>, encoding='utf-8',\n",
       "                                 input='content', lowercase=True, max_df=1.0,\n",
       "                                 max_features=None, min_df=1,\n",
       "                                 ngram_range=(4, 4), preprocessor=None,\n",
       "                                 stop_words=None, strip_accents=None,\n",
       "                                 token_pattern='(?u)\\\\b\\\\w\\\\w+\\\\b',\n",
       "                                 tokenizer=None, vocabulary=None)),\n",
       "                ('logreg',\n",
       "                 LogisticRegression(C=1.0, class_weight=None, dual=False,\n",
       "                                    fit_intercept=True, intercept_scaling=1,\n",
       "                                    l1_ratio=None, max_iter=100,\n",
       "                                    multi_class='auto', n_jobs=None,\n",
       "                                    penalty='l2', random_state=None,\n",
       "                                    solver='lbfgs', tol=0.0001, verbose=0,\n",
       "                                    warm_start=False))],\n",
       "         verbose=False)"
      ]
     },
     "execution_count": 43,
     "metadata": {},
     "output_type": "execute_result"
    }
   ],
   "source": [
    "vect = CountVectorizer(ngram_range=(4,4), analyzer='char', binary=True)\n",
    "logreg = LogisticRegression()\n",
    "pline  = Pipeline([('vectorizer', vect), ('logreg', logreg)])\n",
    "pline.fit(X_train, y_train)"
   ]
  },
  {
   "cell_type": "code",
   "execution_count": 29,
   "metadata": {},
   "outputs": [
    {
     "name": "stdout",
     "output_type": "stream",
     "text": [
      "[ 1  2  3  4  5  6  7  8  9 10 11 12 13 15 16 17 18 19 20 21 22 25 26 27\n",
      " 28 29 30 32 33 35 36 37 38 39 40 41 42 43 44 45 46 47 49 50 51]\n",
      "[23 24 31 34 48]\n",
      "# of datapoint is 3731\n",
      "[ 2  4  5  6  8  9 10 11 12 13 16 17 18 19 20 21 22 23 24 25 26 27 28 29\n",
      " 30 31 32 33 34 35 36 37 38 39 40 41 42 43 45 46 47 48 49 50 51]\n",
      "[ 1  3  7 15 44]\n",
      "# of datapoint is 3922\n",
      "[ 1  2  3  4  5  6  7  8 10 12 13 15 16 17 18 19 20 22 23 24 27 28 29 30\n",
      " 31 32 33 34 35 36 37 38 39 40 41 42 43 44 45 46 47 48 49 50 51]\n",
      "[ 9 11 21 25 26]\n",
      "# of datapoint is 3720\n",
      "[ 1  2  3  4  5  6  7  8  9 10 11 12 13 15 17 19 20 21 22 23 24 25 26 27\n",
      " 28 29 31 33 34 35 36 37 38 39 40 41 42 43 44 45 46 47 48 49 50]\n",
      "[16 18 30 32 51]\n",
      "# of datapoint is 3799\n",
      "[ 1  2  3  4  6  7  8  9 11 12 13 15 16 17 18 19 21 22 23 24 25 26 27 28\n",
      " 29 30 31 32 33 34 36 37 39 40 41 42 43 44 45 46 47 48 49 50 51]\n",
      "[ 5 10 20 35 38]\n",
      "# of datapoint is 3817\n",
      "[ 1  2  3  4  5  6  7  8  9 10 11 15 16 17 18 19 20 21 22 23 24 25 26 27\n",
      " 29 30 31 32 33 34 35 36 37 38 39 40 41 42 44 46 47 48 49 50 51]\n",
      "[12 13 28 43 45]\n",
      "# of datapoint is 3753\n",
      "[ 1  2  3  5  6  7  8  9 10 11 12 13 15 16 17 18 20 21 22 23 24 25 26 27\n",
      " 28 29 30 31 32 33 34 35 36 37 38 39 40 42 43 44 45 48 49 50 51]\n",
      "[ 4 19 41 46 47]\n",
      "# of datapoint is 3725\n",
      "[ 1  2  3  4  5  7  8  9 10 11 12 13 15 16 17 18 19 20 21 22 23 24 25 26\n",
      " 27 28 29 30 31 32 33 34 35 37 38 39 41 42 43 44 45 46 47 48 51]\n",
      "[ 6 36 40 49 50]\n",
      "# of datapoint is 3520\n",
      "[ 1  2  3  4  5  6  7  9 10 11 12 13 15 16 18 19 20 21 23 24 25 26 27 28\n",
      " 29 30 31 32 33 34 35 36 38 39 40 41 43 44 45 46 47 48 49 50 51]\n",
      "[ 8 17 22 37 42]\n",
      "# of datapoint is 3829\n",
      "[ 1  3  4  5  6  7  8  9 10 11 12 13 15 16 17 18 19 20 21 22 23 24 25 26\n",
      " 28 30 31 32 34 35 36 37 38 40 41 42 43 44 45 46 47 48 49 50 51]\n",
      "[ 2 27 29 33 39]\n",
      "# of datapoint is 3375\n"
     ]
    }
   ],
   "source": [
    "# accs = []\n",
    "counter = 1\n",
    "for gr in splts[0].unique():\n",
    "    train_index = splts[splts[0] != gr][1].values\n",
    "    test_index  = splts[splts[0] == gr][1].values\n",
    "    vect = CountVectorizer(ngram_range=(4,4), analyzer='char', binary=True)\n",
    "    logreg = LogisticRegression()\n",
    "    pline  = Pipeline([('vectorizer', vect), ('logreg', logreg)])\n",
    "    test_topics  = test_index\n",
    "    train_topics = train_index\n",
    "    train, test  = qrels[~qrels['TID'].isin(test_topics)], qrels[qrels['TID'].isin(test_topics)]\n",
    "    print(train.TID.unique())\n",
    "    print(test.TID.unique())\n",
    "    train        = train[~train['DOCID'].isin(test['DOCID'])]\n",
    "    X_train      = train['DOCS'].values.tolist()\n",
    "    X_test       = test['DOCS'].values.tolist()\n",
    "    y_train, y_test = train['CRE'], test['CRE']\n",
    "    print('# of datapoint is %s' % len(X_train))\n",
    "    vect = CountVectorizer(ngram_range=(4,4), analyzer='char', binary=True)\n",
    "    logreg = LogisticRegression()\n",
    "    pline  = Pipeline([('vectorizer', vect), ('logreg', logreg)])\n",
    "    pline.fit(X_train, y_train)\n",
    "    dump(pline, 'LOGREG_10fold_v2_%s.joblib' % counter)\n",
    "    counter += 1\n",
    "#     y_pred_class = pline.predict(X_test)\n",
    "#     print(metrics.accuracy_score(y_test, y_pred_class))\n",
    "#     accs.append(metrics.accuracy_score(y_test, y_pred_class))\n"
   ]
  }
 ],
 "metadata": {
  "kernelspec": {
   "display_name": "Python 3",
   "language": "python",
   "name": "python3"
  },
  "language_info": {
   "codemirror_mode": {
    "name": "ipython",
    "version": 3
   },
   "file_extension": ".py",
   "mimetype": "text/x-python",
   "name": "python",
   "nbconvert_exporter": "python",
   "pygments_lexer": "ipython3",
   "version": "3.8.2"
  }
 },
 "nbformat": 4,
 "nbformat_minor": 2
}
